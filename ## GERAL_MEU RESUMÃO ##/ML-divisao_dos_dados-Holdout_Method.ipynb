{
 "cells": [
  {
   "cell_type": "markdown",
   "metadata": {},
   "source": [
    "# Holdout Method -> dividir os dados de teste,  treino e validação"
   ]
  },
  {
   "cell_type": "markdown",
   "metadata": {},
   "source": [
    "Para seprar os dados de teste e de treino posso usar o módulo do sklearn train_test_split normalmente. Porém para fazer a divisão entre teste, treino e validação teria que usar uma função do numpy ou rodar duas vezes o módulo de divisão do sklearn "
   ]
  },
  {
   "cell_type": "code",
   "execution_count": 8,
   "metadata": {},
   "outputs": [
    {
     "data": {
      "text/html": [
       "<div><div id=8ca5491d-4f78-4ed9-93b4-6566d65380dd style=\"display:none; background-color:#9D6CFF; color:white; width:200px; height:30px; padding-left:5px; border-radius:4px; flex-direction:row; justify-content:space-around; align-items:center;\" onmouseover=\"this.style.backgroundColor='#BA9BF8'\" onmouseout=\"this.style.backgroundColor='#9D6CFF'\" onclick=\"window.commands?.execute('create-mitosheet-from-dataframe-output');\">See Full Dataframe in Mito</div> <script> if (window.commands.hasCommand('create-mitosheet-from-dataframe-output')) document.getElementById('8ca5491d-4f78-4ed9-93b4-6566d65380dd').style.display = 'flex' </script> <table border=\"1\" class=\"dataframe\">\n",
       "  <thead>\n",
       "    <tr style=\"text-align: right;\">\n",
       "      <th></th>\n",
       "      <th>sepal.length</th>\n",
       "      <th>sepal.width</th>\n",
       "      <th>petal.length</th>\n",
       "      <th>petal.width</th>\n",
       "      <th>variety</th>\n",
       "    </tr>\n",
       "  </thead>\n",
       "  <tbody>\n",
       "    <tr>\n",
       "      <th>0</th>\n",
       "      <td>5.1</td>\n",
       "      <td>3.5</td>\n",
       "      <td>1.4</td>\n",
       "      <td>0.2</td>\n",
       "      <td>Setosa</td>\n",
       "    </tr>\n",
       "    <tr>\n",
       "      <th>1</th>\n",
       "      <td>4.9</td>\n",
       "      <td>3.0</td>\n",
       "      <td>1.4</td>\n",
       "      <td>0.2</td>\n",
       "      <td>Setosa</td>\n",
       "    </tr>\n",
       "    <tr>\n",
       "      <th>2</th>\n",
       "      <td>4.7</td>\n",
       "      <td>3.2</td>\n",
       "      <td>1.3</td>\n",
       "      <td>0.2</td>\n",
       "      <td>Setosa</td>\n",
       "    </tr>\n",
       "  </tbody>\n",
       "</table></div>"
      ],
      "text/plain": [
       "   sepal.length  sepal.width  petal.length  petal.width variety\n",
       "0           5.1          3.5           1.4          0.2  Setosa\n",
       "1           4.9          3.0           1.4          0.2  Setosa\n",
       "2           4.7          3.2           1.3          0.2  Setosa"
      ]
     },
     "execution_count": 8,
     "metadata": {},
     "output_type": "execute_result"
    }
   ],
   "source": [
    "import pandas as pd\n",
    "\n",
    "df = pd.read_csv('https://gist.githubusercontent.com/netj/8836201/raw/6f9306ad21398ea43cba4f7d537619d0e07d5ae3/iris.csv')\n",
    "\n",
    "df.head(3)"
   ]
  },
  {
   "cell_type": "markdown",
   "metadata": {},
   "source": [
    "## Usando a o numpy \n",
    "\n",
    "https://qastack.com.br/programming/38250710/how-to-split-data-into-3-sets-train-validation-and-test"
   ]
  },
  {
   "cell_type": "markdown",
   "metadata": {},
   "source": [
    "60% - conjunto de treino\n",
    "\n",
    "20% - conjunto de validação\n",
    "\n",
    "20% - conjunto de teste"
   ]
  },
  {
   "cell_type": "code",
   "execution_count": 9,
   "metadata": {},
   "outputs": [],
   "source": [
    "import numpy as np\n",
    "train, validate, test = np.split(df.sample(frac=1), [int(.6*len(df)), int(.8*len(df))])"
   ]
  },
  {
   "cell_type": "code",
   "execution_count": 11,
   "metadata": {},
   "outputs": [
    {
     "data": {
      "text/plain": [
       "(90, 5)"
      ]
     },
     "execution_count": 11,
     "metadata": {},
     "output_type": "execute_result"
    }
   ],
   "source": [
    "train.shape"
   ]
  },
  {
   "cell_type": "code",
   "execution_count": 12,
   "metadata": {},
   "outputs": [
    {
     "data": {
      "text/plain": [
       "(30, 5)"
      ]
     },
     "execution_count": 12,
     "metadata": {},
     "output_type": "execute_result"
    }
   ],
   "source": [
    "validate.shape"
   ]
  },
  {
   "cell_type": "code",
   "execution_count": 13,
   "metadata": {},
   "outputs": [
    {
     "data": {
      "text/plain": [
       "(30, 5)"
      ]
     },
     "execution_count": 13,
     "metadata": {},
     "output_type": "execute_result"
    }
   ],
   "source": [
    "test.shape"
   ]
  },
  {
   "cell_type": "markdown",
   "metadata": {},
   "source": [
    "[int(.6*len(df)), int(.8*len(df))]- é a forma de dividir os dados de da matriz para numpy.split ()\n",
    "\n",
    "Se fosse para uma divisão \n",
    "- 80% - conjunto de treino\n",
    "- 10% - conjunto de validação\n",
    "- 10% - conjunto de teste\n",
    "\n",
    "o código seria :\n",
    "\n",
    "[int(.8 * len(a)), int(.9 * len(a))]\n",
    "\n",
    "\n",
    "Se fosse \n",
    "\n",
    "- 75% - conjunto de treino\n",
    "- 15% - conjunto de validação\n",
    "- 10% - conjunto de teste\n",
    "\n",
    "[int(.75*len(df)), int(.9*len(df))])\n"
   ]
  },
  {
   "cell_type": "markdown",
   "metadata": {},
   "source": [
    "Caso tenha dividido os dados em duas variáveis X  e y já "
   ]
  },
  {
   "cell_type": "code",
   "execution_count": 15,
   "metadata": {},
   "outputs": [],
   "source": [
    "X = df.drop(columns = ['variety']) # features\n",
    "y = df['variety'] # label ou target\n",
    "\n",
    "\n",
    "\n",
    "x_train, x_val, x_test = np.split(X, [int(len(X)*0.75), int(len(X)*0.9)]) # split of 75:15:10\n",
    "y_train, y_val, y_test = np.split(y, [int(len(y)*0.75), int(len(y)*0.9)])\n"
   ]
  },
  {
   "cell_type": "markdown",
   "metadata": {},
   "source": [
    "## Usando o módulo de divisão do sklearn\n"
   ]
  },
  {
   "cell_type": "markdown",
   "metadata": {},
   "source": [
    "Existem diversas formas/nomenclaturas para dividir os dados em treino, teste e validação usando o sklearn.\n",
    "\n",
    "Na minha opiniçõ essa é a forma mais facil de se compreender essa divisão\n",
    "\n",
    "https://towardsdatascience.com/how-to-split-data-into-three-sets-train-validation-and-test-and-why-e50d22d3e54c"
   ]
  },
  {
   "cell_type": "markdown",
   "metadata": {},
   "source": [
    "Imagem ilustrativa da divisão\n",
    "\n",
    "![image](https://user-images.githubusercontent.com/71708626/153755246-8d3e1d46-6481-4856-ba4e-3f151adb4fe3.png)"
   ]
  },
  {
   "cell_type": "code",
   "execution_count": 23,
   "metadata": {},
   "outputs": [
    {
     "name": "stdout",
     "output_type": "stream",
     "text": [
      "treino\n",
      "(120, 4)\n",
      "(120,)\n",
      "validação\n",
      "(15, 4)\n",
      "(15,)\n",
      "teste\n",
      "(15, 4)\n",
      "(15,)\n"
     ]
    }
   ],
   "source": [
    "X = df.drop(columns = ['variety']) # features\n",
    "y = df['variety'] # label ou target\n",
    "\n",
    "\n",
    "# Digamos que queremos dividir os dados em 80:10:10 para train:valid:test dataset -> train_size=0.8\n",
    "\n",
    "# Na primeira etapa vamos dividir os dados em treinamento e em um conjunto de dados restante (dados remanescentes)\n",
    "X_train, X_rem, y_train, y_rem = train_test_split(X,y, train_size=0.8)\n",
    "\n",
    "# Agora, como queremos que o tamanho dos dados de validação e de teste sejam iguais (10% cada um dos dados gerais)\n",
    "# temos que definir valid_size=0.5 (que é 50% dos dados restantes)\n",
    "\n",
    "test_size = 0.5\n",
    "X_valid, X_test, y_valid, y_test = train_test_split(X_rem,y_rem, test_size=0.5)\n",
    "\n",
    "print (\"treino\")\n",
    "print(X_train.shape)\n",
    "print(y_train.shape)\n",
    "\n",
    "print (\"validação\")\n",
    "print(X_valid.shape)\n",
    "print(y_valid.shape)\n",
    "\n",
    "print (\"teste\")\n",
    "print(X_test.shape)\n",
    "print(y_test.shape)"
   ]
  },
  {
   "cell_type": "markdown",
   "metadata": {},
   "source": [
    "## Usando o módulo de divisão do fast_ml"
   ]
  },
  {
   "cell_type": "code",
   "execution_count": 22,
   "metadata": {},
   "outputs": [
    {
     "name": "stdout",
     "output_type": "stream",
     "text": [
      "treino\n",
      "(120, 4)\n",
      "(120,)\n",
      "validação\n",
      "(15, 4)\n",
      "(15,)\n",
      "teste\n",
      "(15, 4)\n",
      "(15,)\n"
     ]
    }
   ],
   "source": [
    "X = df.drop(columns = ['variety']) # features\n",
    "y = df['variety'] # label ou target\n",
    "\n",
    "from fast_ml.model_development import train_valid_test_split\n",
    "\n",
    "# train_valid_test_split(df, target, train_size=0.8, valid_size=0.1, test_size=0.1,\n",
    "#                           method='random', sort_by_col = None, random_state=None)\n",
    "\n",
    "X_train, y_train, X_valid, y_valid, X_test, y_test = train_valid_test_split(df, target = 'variety', train_size=0.8, valid_size=0.1, test_size=0.1, \n",
    "                                                                            method='random', sort_by_col = True, random_state=88)\n",
    "\n",
    "print (\"treino\")\n",
    "print(X_train.shape)\n",
    "print(y_train.shape)\n",
    "\n",
    "print (\"validação\")\n",
    "print(X_valid.shape)\n",
    "print(y_valid.shape)\n",
    "\n",
    "print (\"teste\")\n",
    "print(X_test.shape)\n",
    "print(y_test.shape)"
   ]
  }
 ],
 "metadata": {
  "interpreter": {
   "hash": "a3e5c53ec2d4a5f697408540edef06c5b2f3d2815be0e792209162fb59331b8e"
  },
  "kernelspec": {
   "display_name": "Python 3 (ipykernel)",
   "language": "python",
   "name": "python3"
  },
  "language_info": {
   "codemirror_mode": {
    "name": "ipython",
    "version": 3
   },
   "file_extension": ".py",
   "mimetype": "text/x-python",
   "name": "python",
   "nbconvert_exporter": "python",
   "pygments_lexer": "ipython3",
   "version": "3.9.9"
  }
 },
 "nbformat": 4,
 "nbformat_minor": 4
}
