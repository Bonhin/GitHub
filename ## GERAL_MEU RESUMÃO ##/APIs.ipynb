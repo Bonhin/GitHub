{
 "cells": [
  {
   "cell_type": "markdown",
   "metadata": {},
   "source": [
    "# **O que é API?**\n",
    "Uma API (Application Programming Interface) é um conjunto de definições e protocolos usado no desenvolvimento e na integração de aplicações. Às vezes, as APIs são descritas como um contrato entre um provedor e um usuário de informações, estabelecendo o conteúdo exigido pelo consumidor (a chamada) e o conteúdo exigido pelo produtor (a resposta). Por exemplo, o design da API de um serviço meteorológico pode especificar que o usuário forneça um CEP e o produtor responda em duas partes, a primeira contendo a temperatura mais elevada e a segunda com a temperatura mais baixa.  \n",
    "\n",
    "Em outras palavras, ao interagir com um computador ou sistema para recuperar informações ou executar uma função, a API ajudará a comunicar o que você quer ao sistema para que ele entenda e realize o que foi solicitado.\n",
    "\n",
    "Pense nas APIs como um mediador entre os usuários ou clientes e os recursos ou serviços web que eles querem obter. As APIs também servem para que organizações compartilhem recursos e informações e, ao mesmo tempo, mantenham a segurança, o controle e a obrigatoriedade de autenticação, pois permitem determinar quem tem acesso e o que pode ser acessado. \n",
    "\n",
    "De forma simplificada, a API tem a função de permitir a comunicação de dados entre duas ou mais aplicações, para que funcionem conjuntamente. \n",
    "\n",
    "Elas conectam não apenas softwares, mas também plugins a sites, e-commerce, redes sociais e a outros softwares. "
   ]
  },
  {
   "cell_type": "markdown",
   "metadata": {},
   "source": [
    "As APIs podem ser privadas ou públicas.\n",
    "\n",
    "- As APIs privadas são aquelas pertencentes a uma empresa, funcionando internamente entre os sistemas da mesma;\n",
    "- Já as APIs públicas são abertas na internet pelos programadores para uso livre;\n",
    "- Há ainda as APIs que são vendidas por empresas SaaS, para uso dos seus clientes. São softwares que podem ser integrados ao sistema das empresas."
   ]
  },
  {
   "cell_type": "markdown",
   "metadata": {},
   "source": [
    "# Acesso aos dados via API"
   ]
  },
  {
   "cell_type": "markdown",
   "metadata": {},
   "source": [
    "Alguns sites disponibilizam APIs para a captura de dados. Isso quer dizer, que o site criou uma série de URLs pelas quais os dados são fornecidos de forma 'pura'. O formato mais comum é o [JSON](https://www.json.org/json-en.html) (JavaScript Object Notation). Ele é uma forma muito usada para troca de dados entre sistemas, mas outros podem ser usados, como por exemplo o XML. "
   ]
  },
  {
   "cell_type": "markdown",
   "metadata": {},
   "source": [
    "#### Vantagens do JSON\n",
    "\n",
    "* Leitura mais simples\n",
    "* Analisador(parsing) mais fácil\n",
    "* JSON suporta objetos! Sim, ele é tipado!\n",
    "* Velocidade maior na execução e transporte de dados\n",
    "* Arquivo com tamanho reduzido\n",
    "* Quem utiliza? Google, Facebook, Yahoo!, Twitter..."
   ]
  },
  {
   "cell_type": "markdown",
   "metadata": {},
   "source": [
    "![image](https://user-images.githubusercontent.com/71708626/153756117-61d2987f-4a15-4e1f-b63b-e2fbb0f0753a.png)\n"
   ]
  },
  {
   "cell_type": "markdown",
   "metadata": {},
   "source": [
    "# API REST \n",
    "\n",
    "## **O que é REST?**\n",
    "No mundo da programação, o conceito de REST (Representational State Transfer) se aplica à construção de Aplicações Web, como softwares e sites, consistindo em um protocolo sobre a Arquitetura da Informação.\n",
    "\n",
    "Em outras palavras, a arquitetura de softwares visa que os programadores utilizem algumas regras para uma hierarquia bem organizada do código.\n",
    "\n",
    "É possível até fazer um comparativo com a arquitetura de um prédio: para se erguer a construção, todos os níveis, desde o subsolo até o topo, precisam estar hierarquizados, bem delimitados pelas medidas corretas.\n",
    "\n",
    "Assim, o mesmo acontece na arquitetura da informação. Mas, em vez de tijolos e cimento para construir fundações e paredes, a estruturação dos códigos permite construir interfaces de forma consistente.\n",
    "\n",
    "Essas regrinhas permitem que os web services sejam mais bem estruturados, leves e fáceis de serem integrados uns aos outros via API. Qualquer API gerada com o protocolo REST é chamada de Rest API ou API RESTful.\n",
    "\n",
    "## **REST API**  \n",
    "API REST ou API REST, também chamada de API RESTful, é uma interface de programação de aplicações (API ou API web) que está em conformidade com as restrições do estilo de arquitetura REST, permitindo a interação com serviços web RESTful. REST é a sigla em inglês para \"Representational State Transfer\", que em português significa tansferência de estado representacional. Essa arquitetura foi criada pelo cientista da computação Roy Fielding.\n",
    "\n",
    "![image](https://user-images.githubusercontent.com/71708626/153756146-3933b4da-a871-4122-b5e5-ed71ba86dadc.png)\n",
    "![image](https://user-images.githubusercontent.com/71708626/153756177-ab60d19a-2928-420d-8ccb-62c0dbd7c7f8.png)\n",
    "\n",
    "Quando falamos em “API REST”, estamos falando de uma API que segue os padrões definidos pelo estilo de arquitetura Rest, visto que o REST é um conjunto de princípios de arquitetura de software. \n",
    "\n",
    "Um desses princípios é a chamada “comunicação sem estado”, que permite a transferência independente de dados, pelas APIs ou navegadores. "
   ]
  },
  {
   "cell_type": "markdown",
   "metadata": {},
   "source": [
    "## **O que é HTTP?**\n",
    "\n",
    "O HTTP ((HyperText Transfer Protocol) é um protocolo de comunicação. Através dele o cliente e o servidor conseguem se comunicar, seguindo um conjunto de regras bem definidas (por isso chamamos de protocolo). Por exemplo, se estivermos falando de uma aplicação web, o cliente é o navegador, ele envia um pedido para o servidor web usando o protocolo HTTP, com base nesse pedido, se tudo estiver correto, o servidor responde também usando o mesmo protocolo o conteúdo solicitado.\n",
    "\n",
    "*O HTTP  é o caminho mais conhecido nas transferências de dados*\n",
    "\n",
    "Quanto às operações, ele permite:\n",
    "- Criar dados no servidor (POST);\n",
    "- Atualizar (PUT); \n",
    "- Pesquisar (GET); \n",
    "- Executar;\n",
    "- Remover (DELETE).\n",
    "\n",
    "Assim, a maioria das Rest APIs utilizam o HTTP como protocolo de comunicação oficial, uma vez que apresenta uma interface de operações padronizadas. Outra possibilidade, menos utilizada, é o HTTPS.\n",
    "\n"
   ]
  },
  {
   "cell_type": "markdown",
   "metadata": {},
   "source": [
    "## **O que é GET e POST?**\n",
    "São os dois métodos mais usados, principalmente em aplicações web. Tanto GET como POST são métodos HTTP, que indicam para o servidor qual a ação que o cliente deseja realizar. Quando realizamos uma requisição obrigatoriamente precisamos informar um método.\n",
    "\n",
    "- GET – é usado quando o cliente deseja obter recursos do servidor (usado para recuperar informação, normalmente o métodos mais usado no contexto de ciência de dados)\n",
    "- POST – é usado quando o cliente deseja enviar dados para processamento ao servidor, como os dados de um formulário, por exemplo\n",
    "\n",
    "Quando o usuário digita um endereço e aperta enter na barra de endereço do navegador, ele realiza uma requisição do tipo GET. \n",
    "Já quando preenchemos um formulário e clicamos em enviar geralmente o método usado é o POST."
   ]
  },
  {
   "cell_type": "markdown",
   "metadata": {},
   "source": [
    "# Exemplo de uso "
   ]
  },
  {
   "cell_type": "markdown",
   "metadata": {},
   "source": [
    "### *O que é Request?*\n",
    "A Request ou requisição traduzindo diretamente para português, é o pedido que um cliente realiza a nosso servidor. Esse pedido contém uma série de dados que são usados para descrever exatamente o que o cliente precisa. Vamos pensar que um cliente precisa cadastrar um novo produto, ele deve passar todos os dados necessários para o cadastro acontecer de maneira correta, inclusive os dados que foram digitados pelo usuário em um formulário, no caso de uma aplicação web. No navegador toda vez que trocamos de página ou apertamos enter na barra de endereço uma nova request é feita. Independente se estamos apenas pedindo a exibição de uma página, cadastrando um novo recurso, atualizando ou excluindo.\n",
    "\n",
    "### *O que é Response?*\n",
    "O cliente envia uma Request (requisição) ao servidor. Essa requisição possui todas as informações acerca do que o cliente espera receber de volta. O servidor web ao receber essas informações precisa enviar uma resposta ao cliente, nesse ponto entra a Response. A Response (resposta) nada mais é do que a resposta que o servidor envia ao cliente. Essa resposta pode conter os dados que realmente o cliente esperava receber ou uma resposta informando que alguma coisa deu errado.\n",
    "\n",
    "Quando o cliente faz uma requisição ele espera uma resposta. O servidor pode realmente responder o que o cliente esperava ou devolver outra informação, justamente nesse ponto entram os códigos HTTP. O servidor utiliza um código desse na resposta para indicar o que aconteceu.\n",
    "\n",
    "Os códigos estão entre 100 e 500, sendo que cada centena indica uma categoria:\n",
    "\n",
    "- 1xx – Informativos\n",
    "- 2xx – Indicativos de sucesso\n",
    "- 3xx – Redirecionamentos\n",
    "- 4xx – Erros do cliente na hora de fazer a solicitação\n",
    "- 5xx – Erros no lado do servidor\n",
    "\n",
    "Dentro de cada centena temos os códigos específicos, por exemplo:\n",
    "\n",
    "- 200 - Tudo ocorreu corretamente\n",
    "- 301 – Indica redirecionamento permanente\n",
    "- 401 – Não autorizado\n",
    "- 404 – O recurso solicitado não foi encontrado no servidor\n",
    "\n",
    "\n",
    "Para fins didáticos, vamos usar uma API Fake https://jsonplaceholder.typicode.com/"
   ]
  },
  {
   "cell_type": "markdown",
   "metadata": {},
   "source": [
    "**GET**"
   ]
  },
  {
   "cell_type": "code",
   "execution_count": 4,
   "metadata": {},
   "outputs": [
    {
     "name": "stdout",
     "output_type": "stream",
     "text": [
      "{'userId': 1, 'id': 1, 'title': 'sunt aut facere repellat provident occaecati excepturi optio reprehenderit', 'body': 'quia et suscipit\\nsuscipit recusandae consequuntur expedita et cum\\nreprehenderit molestiae ut ut quas totam\\nnostrum rerum est autem sunt rem eveniet architecto'}\n"
     ]
    }
   ],
   "source": [
    "import requests\n",
    "import json\n",
    "\n",
    "url = 'https://jsonplaceholder.typicode.com/posts/1'\n",
    "\n",
    "response = requests.get(url)\n",
    "print(response.json())"
   ]
  },
  {
   "cell_type": "markdown",
   "metadata": {},
   "source": [
    "**POST**\n"
   ]
  },
  {
   "cell_type": "code",
   "execution_count": 5,
   "metadata": {},
   "outputs": [
    {
     "name": "stdout",
     "output_type": "stream",
     "text": [
      "b'{\\n  \"title\": \"compras\",\\n  \"body\": \"Preciso de um mouse novo !\",\\n  \"userId\": 9,\\n  \"id\": 101\\n}'\n"
     ]
    }
   ],
   "source": [
    "url = 'https://jsonplaceholder.typicode.com/posts'\n",
    "\n",
    "# data={'key': 'value'}\n",
    "data = { 'title': 'compras','body': 'Preciso de um mouse novo !','userId': 9,}\n",
    "headers = {'content-type': 'application/json; charset=UTF-8'}\n",
    "\n",
    "response = requests.post(url, data=json.dumps(data), headers=headers)\n",
    "print(response.content)\n",
    "\n"
   ]
  },
  {
   "cell_type": "code",
   "execution_count": 6,
   "metadata": {},
   "outputs": [
    {
     "data": {
      "text/plain": [
       "201"
      ]
     },
     "execution_count": 6,
     "metadata": {},
     "output_type": "execute_result"
    }
   ],
   "source": [
    "response.status_code"
   ]
  },
  {
   "cell_type": "code",
   "execution_count": 7,
   "metadata": {},
   "outputs": [
    {
     "data": {
      "text/plain": [
       "{'Date': 'Tue, 28 Dec 2021 23:18:46 GMT', 'Content-Type': 'application/json; charset=utf-8', 'Content-Length': '92', 'Connection': 'keep-alive', 'x-powered-by': 'Express', 'x-ratelimit-limit': '1000', 'x-ratelimit-remaining': '998', 'x-ratelimit-reset': '1640733535', 'vary': 'Origin, X-HTTP-Method-Override, Accept-Encoding', 'access-control-allow-credentials': 'true', 'cache-control': 'no-cache', 'pragma': 'no-cache', 'expires': '-1', 'access-control-expose-headers': 'Location', 'location': 'http://jsonplaceholder.typicode.com/posts/101', 'x-content-type-options': 'nosniff', 'etag': 'W/\"5c-JaqVibBG4L3BG4WBSMUZ5GGC6bc\"', 'via': '1.1 vegur', 'CF-Cache-Status': 'DYNAMIC', 'Expect-CT': 'max-age=604800, report-uri=\"https://report-uri.cloudflare.com/cdn-cgi/beacon/expect-ct\"', 'Report-To': '{\"endpoints\":[{\"url\":\"https:\\\\/\\\\/a.nel.cloudflare.com\\\\/report\\\\/v3?s=0zOn89kxMD5ASf0S0qtnip%2BlRiuNQibmCnPwWvE6k8x6xa6cCQtpieRiccbKNDn9W4eqhZ%2BbgNzZtI6uZIcg9yumt6lVCYxWsoMMDcst0f%2B2lWpzCZOBje%2FKSlF80wcFVi%2FxX1i4vK7sm3ayxSEHYgBRotuhPVgVdXE%2F\"}],\"group\":\"cf-nel\",\"max_age\":604800}', 'NEL': '{\"success_fraction\":0,\"report_to\":\"cf-nel\",\"max_age\":604800}', 'Server': 'cloudflare', 'CF-RAY': '6c4e827a3821263a-GIG', 'alt-svc': 'h3=\":443\"; ma=86400, h3-29=\":443\"; ma=86400, h3-28=\":443\"; ma=86400, h3-27=\":443\"; ma=86400'}"
      ]
     },
     "execution_count": 7,
     "metadata": {},
     "output_type": "execute_result"
    }
   ],
   "source": [
    "response.headers"
   ]
  },
  {
   "cell_type": "code",
   "execution_count": 8,
   "metadata": {},
   "outputs": [
    {
     "name": "stdout",
     "output_type": "stream",
     "text": [
      "{}\n"
     ]
    }
   ],
   "source": [
    "url = 'https://jsonplaceholder.typicode.com/posts/101'\n",
    "\n",
    "response = requests.get(url)\n",
    "print(response.json())"
   ]
  },
  {
   "cell_type": "markdown",
   "metadata": {},
   "source": [
    "**PUT**\n",
    "usado para atualizar uma informação \n"
   ]
  },
  {
   "cell_type": "code",
   "execution_count": 9,
   "metadata": {},
   "outputs": [
    {
     "name": "stdout",
     "output_type": "stream",
     "text": [
      "b'{\\n  \"id\": 1,\\n  \"userId\": 2,\\n  \"title\": \"drink cold milk\",\\n  \"body\": \"drinking water is important\"\\n}'\n"
     ]
    }
   ],
   "source": [
    "url = 'https://jsonplaceholder.typicode.com/posts/1'\n",
    "data = {'id':1, 'userId':2, 'title':'drink cold milk', 'body':'drinking water is important'}\n",
    "headers = {'Content-Type':'application/json; charset=UTF-8'}\n",
    "response = requests.put(url, data=json.dumps(data), headers=headers)\n",
    "\n",
    "\n",
    "print(response.content)"
   ]
  },
  {
   "cell_type": "markdown",
   "metadata": {},
   "source": [
    "**DELETE**\n",
    "usado para deletar uma informação "
   ]
  },
  {
   "cell_type": "code",
   "execution_count": 10,
   "metadata": {},
   "outputs": [
    {
     "name": "stdout",
     "output_type": "stream",
     "text": [
      "b'{}'\n"
     ]
    }
   ],
   "source": [
    "url = 'https://jsonplaceholder.typicode.com/posts/1'\n",
    "headers = {'Content-Type': 'application/json; charset=UTF-8'}\n",
    "response = requests.delete(url, headers=headers)\n",
    "\n",
    "print(response.content) # <class 'str'>"
   ]
  },
  {
   "cell_type": "markdown",
   "metadata": {},
   "source": [
    "# Vamos começar a trabalhar com alguns dados! "
   ]
  },
  {
   "cell_type": "code",
   "execution_count": 11,
   "metadata": {},
   "outputs": [],
   "source": [
    "import pandas as pd\n",
    "import numpy as np\n",
    "import requests\n",
    "import json"
   ]
  },
  {
   "cell_type": "markdown",
   "metadata": {},
   "source": [
    "https://viacep.com.br/?ref=devresourc.es"
   ]
  },
  {
   "cell_type": "markdown",
   "metadata": {},
   "source": [
    "## Acessando uma API"
   ]
  },
  {
   "cell_type": "code",
   "execution_count": 12,
   "metadata": {},
   "outputs": [],
   "source": [
    "response = requests.get('http://viacep.com.br/ws/01001000/json/').text"
   ]
  },
  {
   "cell_type": "code",
   "execution_count": 13,
   "metadata": {
    "scrolled": true
   },
   "outputs": [
    {
     "data": {
      "text/plain": [
       "'{\\n  \"cep\": \"01001-000\",\\n  \"logradouro\": \"Praça da Sé\",\\n  \"complemento\": \"lado ímpar\",\\n  \"bairro\": \"Sé\",\\n  \"localidade\": \"São Paulo\",\\n  \"uf\": \"SP\",\\n  \"ibge\": \"3550308\",\\n  \"gia\": \"1004\",\\n  \"ddd\": \"11\",\\n  \"siafi\": \"7107\"\\n}'"
      ]
     },
     "execution_count": 13,
     "metadata": {},
     "output_type": "execute_result"
    }
   ],
   "source": [
    "response"
   ]
  },
  {
   "cell_type": "code",
   "execution_count": 14,
   "metadata": {
    "scrolled": true
   },
   "outputs": [
    {
     "data": {
      "text/plain": [
       "'<!DOCTYPE HTML>\\n<html lang=\"pt-br\">\\n\\n<head>\\n  <title>ViaCEP 400</title>\\n  <meta charset=\"utf-8\" />\\n  <style type=\"text/css\">\\n      h1 {\\n          color: #666;\\n          text-align: center;\\n          font-size: 4em;\\n      }\\n      h2, h3 {\\n          color: #777;\\n          text-align: center;\\n          font-size: 3em;\\n      }\\n      h3 {\\n          font-size: 1.5em;\\n      }\\n  </style>\\n</head>\\n\\n<body>\\n    <h1>Erro 400</h1>\\n    <h2>Ops!</h2>\\n    <h3>Verifique a sua URL (Bad Request)</h3>\\n</body>\\n\\n</html>\\n'"
      ]
     },
     "execution_count": 14,
     "metadata": {},
     "output_type": "execute_result"
    }
   ],
   "source": [
    "requests.get('http://viacep.com.br/ws/000/json/').text # formato errado"
   ]
  },
  {
   "cell_type": "code",
   "execution_count": 15,
   "metadata": {},
   "outputs": [
    {
     "data": {
      "text/plain": [
       "'{\\n  \"erro\": true\\n}'"
      ]
     },
     "execution_count": 15,
     "metadata": {},
     "output_type": "execute_result"
    }
   ],
   "source": [
    "requests.get('http://viacep.com.br/ws/99999999/json/').text # formato correto, porem inexistente"
   ]
  },
  {
   "cell_type": "code",
   "execution_count": 16,
   "metadata": {},
   "outputs": [],
   "source": [
    " \n",
    "requests_ends = requests.get('http://viacep.com.br/ws/RS/Porto Alegre/Domingos/json/').text #busca por enderenco"
   ]
  },
  {
   "cell_type": "markdown",
   "metadata": {},
   "source": [
    "### Tratando os dados: transformando em dicionário"
   ]
  },
  {
   "cell_type": "code",
   "execution_count": 17,
   "metadata": {},
   "outputs": [],
   "source": [
    "response_info = json.loads(response)"
   ]
  },
  {
   "cell_type": "code",
   "execution_count": 18,
   "metadata": {
    "scrolled": true
   },
   "outputs": [
    {
     "data": {
      "text/plain": [
       "{'cep': '01001-000',\n",
       " 'logradouro': 'Praça da Sé',\n",
       " 'complemento': 'lado ímpar',\n",
       " 'bairro': 'Sé',\n",
       " 'localidade': 'São Paulo',\n",
       " 'uf': 'SP',\n",
       " 'ibge': '3550308',\n",
       " 'gia': '1004',\n",
       " 'ddd': '11',\n",
       " 'siafi': '7107'}"
      ]
     },
     "execution_count": 18,
     "metadata": {},
     "output_type": "execute_result"
    }
   ],
   "source": [
    "response_info"
   ]
  },
  {
   "cell_type": "code",
   "execution_count": 19,
   "metadata": {
    "scrolled": true
   },
   "outputs": [
    {
     "name": "stdout",
     "output_type": "stream",
     "text": [
      "Logradouro:  Praça da Sé\n"
     ]
    }
   ],
   "source": [
    "print('Logradouro: ', response_info['logradouro'])"
   ]
  },
  {
   "cell_type": "code",
   "execution_count": 20,
   "metadata": {},
   "outputs": [],
   "source": [
    "requests_ends_dict = json.loads(requests_ends)"
   ]
  },
  {
   "cell_type": "markdown",
   "metadata": {},
   "source": [
    "### data frame "
   ]
  },
  {
   "cell_type": "code",
   "execution_count": 21,
   "metadata": {},
   "outputs": [
    {
     "data": {
      "text/html": [
       "<div><div id=777bb35d-53a3-4219-a2d1-0de9c4240da6 style=\"display:none; background-color:#9D6CFF; color:white; width:200px; height:30px; padding-left:5px; border-radius:4px; flex-direction:row; justify-content:space-around; align-items:center;\" onmouseover=\"this.style.backgroundColor='#BA9BF8'\" onmouseout=\"this.style.backgroundColor='#9D6CFF'\" onclick=\"window.commands?.execute('create-mitosheet-from-dataframe-output');\">See Full Dataframe in Mito</div> <script> if (window.commands.hasCommand('create-mitosheet-from-dataframe-output')) document.getElementById('777bb35d-53a3-4219-a2d1-0de9c4240da6').style.display = 'flex' </script> <table border=\"1\" class=\"dataframe\">\n",
       "  <thead>\n",
       "    <tr style=\"text-align: right;\">\n",
       "      <th></th>\n",
       "      <th>0</th>\n",
       "    </tr>\n",
       "  </thead>\n",
       "  <tbody>\n",
       "    <tr>\n",
       "      <th>cep</th>\n",
       "      <td>01001-000</td>\n",
       "    </tr>\n",
       "    <tr>\n",
       "      <th>logradouro</th>\n",
       "      <td>Praça da Sé</td>\n",
       "    </tr>\n",
       "    <tr>\n",
       "      <th>complemento</th>\n",
       "      <td>lado ímpar</td>\n",
       "    </tr>\n",
       "    <tr>\n",
       "      <th>bairro</th>\n",
       "      <td>Sé</td>\n",
       "    </tr>\n",
       "    <tr>\n",
       "      <th>localidade</th>\n",
       "      <td>São Paulo</td>\n",
       "    </tr>\n",
       "    <tr>\n",
       "      <th>uf</th>\n",
       "      <td>SP</td>\n",
       "    </tr>\n",
       "    <tr>\n",
       "      <th>ibge</th>\n",
       "      <td>3550308</td>\n",
       "    </tr>\n",
       "    <tr>\n",
       "      <th>gia</th>\n",
       "      <td>1004</td>\n",
       "    </tr>\n",
       "    <tr>\n",
       "      <th>ddd</th>\n",
       "      <td>11</td>\n",
       "    </tr>\n",
       "    <tr>\n",
       "      <th>siafi</th>\n",
       "      <td>7107</td>\n",
       "    </tr>\n",
       "  </tbody>\n",
       "</table></div>"
      ],
      "text/plain": [
       "                       0\n",
       "cep            01001-000\n",
       "logradouro   Praça da Sé\n",
       "complemento   lado ímpar\n",
       "bairro                Sé\n",
       "localidade     São Paulo\n",
       "uf                    SP\n",
       "ibge             3550308\n",
       "gia                 1004\n",
       "ddd                   11\n",
       "siafi               7107"
      ]
     },
     "execution_count": 21,
     "metadata": {},
     "output_type": "execute_result"
    }
   ],
   "source": [
    "# dict to df\n",
    "\n",
    "df_cep = pd.DataFrame.from_dict(response_info, orient='index')\n",
    "df_cep"
   ]
  },
  {
   "cell_type": "code",
   "execution_count": 22,
   "metadata": {},
   "outputs": [
    {
     "data": {
      "text/html": [
       "<div><div id=39d8957c-ca03-42af-a54e-0a0cd0cb5639 style=\"display:none; background-color:#9D6CFF; color:white; width:200px; height:30px; padding-left:5px; border-radius:4px; flex-direction:row; justify-content:space-around; align-items:center;\" onmouseover=\"this.style.backgroundColor='#BA9BF8'\" onmouseout=\"this.style.backgroundColor='#9D6CFF'\" onclick=\"window.commands?.execute('create-mitosheet-from-dataframe-output');\">See Full Dataframe in Mito</div> <script> if (window.commands.hasCommand('create-mitosheet-from-dataframe-output')) document.getElementById('39d8957c-ca03-42af-a54e-0a0cd0cb5639').style.display = 'flex' </script> <table border=\"1\" class=\"dataframe\">\n",
       "  <thead>\n",
       "    <tr style=\"text-align: right;\">\n",
       "      <th></th>\n",
       "      <th>cep</th>\n",
       "      <th>logradouro</th>\n",
       "      <th>complemento</th>\n",
       "      <th>bairro</th>\n",
       "      <th>localidade</th>\n",
       "      <th>uf</th>\n",
       "      <th>ibge</th>\n",
       "      <th>gia</th>\n",
       "      <th>ddd</th>\n",
       "      <th>siafi</th>\n",
       "    </tr>\n",
       "  </thead>\n",
       "  <tbody>\n",
       "    <tr>\n",
       "      <th>0</th>\n",
       "      <td>91420-270</td>\n",
       "      <td>Rua São Domingos</td>\n",
       "      <td></td>\n",
       "      <td>Bom Jesus</td>\n",
       "      <td>Porto Alegre</td>\n",
       "      <td>RS</td>\n",
       "      <td>4314902</td>\n",
       "      <td></td>\n",
       "      <td>51</td>\n",
       "      <td>8801</td>\n",
       "    </tr>\n",
       "    <tr>\n",
       "      <th>1</th>\n",
       "      <td>91040-000</td>\n",
       "      <td>Rua Domingos Rubbo</td>\n",
       "      <td></td>\n",
       "      <td>Cristo Redentor</td>\n",
       "      <td>Porto Alegre</td>\n",
       "      <td>RS</td>\n",
       "      <td>4314902</td>\n",
       "      <td></td>\n",
       "      <td>51</td>\n",
       "      <td>8801</td>\n",
       "    </tr>\n",
       "    <tr>\n",
       "      <th>2</th>\n",
       "      <td>91040-320</td>\n",
       "      <td>Rua Domingos Martins</td>\n",
       "      <td></td>\n",
       "      <td>Cristo Redentor</td>\n",
       "      <td>Porto Alegre</td>\n",
       "      <td>RS</td>\n",
       "      <td>4314902</td>\n",
       "      <td></td>\n",
       "      <td>51</td>\n",
       "      <td>8801</td>\n",
       "    </tr>\n",
       "    <tr>\n",
       "      <th>3</th>\n",
       "      <td>91120-090</td>\n",
       "      <td>Rua Domingos de Abreu</td>\n",
       "      <td></td>\n",
       "      <td>Sarandi</td>\n",
       "      <td>Porto Alegre</td>\n",
       "      <td>RS</td>\n",
       "      <td>4314902</td>\n",
       "      <td></td>\n",
       "      <td>51</td>\n",
       "      <td>8801</td>\n",
       "    </tr>\n",
       "    <tr>\n",
       "      <th>4</th>\n",
       "      <td>91910-450</td>\n",
       "      <td>Rua Domingos da Silva</td>\n",
       "      <td></td>\n",
       "      <td>Camaquã</td>\n",
       "      <td>Porto Alegre</td>\n",
       "      <td>RS</td>\n",
       "      <td>4314902</td>\n",
       "      <td></td>\n",
       "      <td>51</td>\n",
       "      <td>8801</td>\n",
       "    </tr>\n",
       "    <tr>\n",
       "      <th>...</th>\n",
       "      <td>...</td>\n",
       "      <td>...</td>\n",
       "      <td>...</td>\n",
       "      <td>...</td>\n",
       "      <td>...</td>\n",
       "      <td>...</td>\n",
       "      <td>...</td>\n",
       "      <td>...</td>\n",
       "      <td>...</td>\n",
       "      <td>...</td>\n",
       "    </tr>\n",
       "    <tr>\n",
       "      <th>11</th>\n",
       "      <td>91790-101</td>\n",
       "      <td>Rua Domingos Manoel Mincarone</td>\n",
       "      <td></td>\n",
       "      <td>Restinga</td>\n",
       "      <td>Porto Alegre</td>\n",
       "      <td>RS</td>\n",
       "      <td>4314902</td>\n",
       "      <td></td>\n",
       "      <td>51</td>\n",
       "      <td>8801</td>\n",
       "    </tr>\n",
       "    <tr>\n",
       "      <th>12</th>\n",
       "      <td>90420-200</td>\n",
       "      <td>Rua Domingos José de Almeida</td>\n",
       "      <td></td>\n",
       "      <td>Rio Branco</td>\n",
       "      <td>Porto Alegre</td>\n",
       "      <td>RS</td>\n",
       "      <td>4314902</td>\n",
       "      <td></td>\n",
       "      <td>51</td>\n",
       "      <td>8801</td>\n",
       "    </tr>\n",
       "    <tr>\n",
       "      <th>13</th>\n",
       "      <td>91261-304</td>\n",
       "      <td>Rua Domingos Mullet Rodrigues</td>\n",
       "      <td></td>\n",
       "      <td>Mário Quintana</td>\n",
       "      <td>Porto Alegre</td>\n",
       "      <td>RS</td>\n",
       "      <td>4314902</td>\n",
       "      <td></td>\n",
       "      <td>51</td>\n",
       "      <td>8801</td>\n",
       "    </tr>\n",
       "    <tr>\n",
       "      <th>14</th>\n",
       "      <td>91540-650</td>\n",
       "      <td>Acesso Olavo Domingos de Oliveira</td>\n",
       "      <td></td>\n",
       "      <td>Jardim Carvalho</td>\n",
       "      <td>Porto Alegre</td>\n",
       "      <td>RS</td>\n",
       "      <td>4314902</td>\n",
       "      <td></td>\n",
       "      <td>51</td>\n",
       "      <td>8801</td>\n",
       "    </tr>\n",
       "    <tr>\n",
       "      <th>15</th>\n",
       "      <td>91740-650</td>\n",
       "      <td>Praça Domingos Fernandes de Souza</td>\n",
       "      <td></td>\n",
       "      <td>Cavalhada</td>\n",
       "      <td>Porto Alegre</td>\n",
       "      <td>RS</td>\n",
       "      <td>4314902</td>\n",
       "      <td></td>\n",
       "      <td>51</td>\n",
       "      <td>8801</td>\n",
       "    </tr>\n",
       "  </tbody>\n",
       "</table></div>"
      ],
      "text/plain": [
       "          cep                         logradouro complemento  \\\n",
       "0   91420-270                   Rua São Domingos               \n",
       "1   91040-000                 Rua Domingos Rubbo               \n",
       "2   91040-320               Rua Domingos Martins               \n",
       "3   91120-090              Rua Domingos de Abreu               \n",
       "4   91910-450              Rua Domingos da Silva               \n",
       "5   91360-040              Rua Domingos Seguézio               \n",
       "6   91790-072             Rua Domingos José Poli               \n",
       "7   91160-080            Rua Luiz Domingos Ramos               \n",
       "8   90650-090            Rua Domingos Crescêncio               \n",
       "9   91910-420          Rua José Domingos Varella               \n",
       "10  91120-480       Rua Domingos Antônio Santoro               \n",
       "11  91790-101      Rua Domingos Manoel Mincarone               \n",
       "12  90420-200       Rua Domingos José de Almeida               \n",
       "13  91261-304      Rua Domingos Mullet Rodrigues               \n",
       "14  91540-650  Acesso Olavo Domingos de Oliveira               \n",
       "15  91740-650  Praça Domingos Fernandes de Souza               \n",
       "\n",
       "                bairro    localidade  uf     ibge gia ddd siafi  \n",
       "0            Bom Jesus  Porto Alegre  RS  4314902      51  8801  \n",
       "1      Cristo Redentor  Porto Alegre  RS  4314902      51  8801  \n",
       "2      Cristo Redentor  Porto Alegre  RS  4314902      51  8801  \n",
       "3              Sarandi  Porto Alegre  RS  4314902      51  8801  \n",
       "4              Camaquã  Porto Alegre  RS  4314902      51  8801  \n",
       "5        Vila Ipiranga  Porto Alegre  RS  4314902      51  8801  \n",
       "6             Restinga  Porto Alegre  RS  4314902      51  8801  \n",
       "7   Santa Rosa de Lima  Porto Alegre  RS  4314902      51  8801  \n",
       "8              Santana  Porto Alegre  RS  4314902      51  8801  \n",
       "9            Cavalhada  Porto Alegre  RS  4314902      51  8801  \n",
       "10             Sarandi  Porto Alegre  RS  4314902      51  8801  \n",
       "11            Restinga  Porto Alegre  RS  4314902      51  8801  \n",
       "12          Rio Branco  Porto Alegre  RS  4314902      51  8801  \n",
       "13      Mário Quintana  Porto Alegre  RS  4314902      51  8801  \n",
       "14     Jardim Carvalho  Porto Alegre  RS  4314902      51  8801  \n",
       "15           Cavalhada  Porto Alegre  RS  4314902      51  8801  "
      ]
     },
     "execution_count": 22,
     "metadata": {},
     "output_type": "execute_result"
    }
   ],
   "source": [
    "pd.DataFrame.from_dict(requests_ends_dict)"
   ]
  },
  {
   "cell_type": "markdown",
   "metadata": {},
   "source": [
    "### Extraindo uma lista "
   ]
  },
  {
   "cell_type": "code",
   "execution_count": 23,
   "metadata": {},
   "outputs": [],
   "source": [
    "# lista de ceps\n",
    "ceps = ['01001000', '04304111']\n",
    "dicts_list = []\n",
    "p1 = 'http://viacep.com.br/ws/'\n",
    "p3 = '/json/'\n",
    "for i in ceps:\n",
    "    search = p1+i+p3\n",
    "    response = requests.get(search).text\n",
    "    dicts_list.append(json.loads(response))"
   ]
  },
  {
   "cell_type": "code",
   "execution_count": 24,
   "metadata": {
    "scrolled": true
   },
   "outputs": [
    {
     "data": {
      "text/plain": [
       "[{'cep': '01001-000',\n",
       "  'logradouro': 'Praça da Sé',\n",
       "  'complemento': 'lado ímpar',\n",
       "  'bairro': 'Sé',\n",
       "  'localidade': 'São Paulo',\n",
       "  'uf': 'SP',\n",
       "  'ibge': '3550308',\n",
       "  'gia': '1004',\n",
       "  'ddd': '11',\n",
       "  'siafi': '7107'},\n",
       " {'cep': '04304-111',\n",
       "  'logradouro': 'Rua Major Freire',\n",
       "  'complemento': 'de 681/682 ao fim',\n",
       "  'bairro': 'Vila Monte Alegre',\n",
       "  'localidade': 'São Paulo',\n",
       "  'uf': 'SP',\n",
       "  'ibge': '3550308',\n",
       "  'gia': '1004',\n",
       "  'ddd': '11',\n",
       "  'siafi': '7107'}]"
      ]
     },
     "execution_count": 24,
     "metadata": {},
     "output_type": "execute_result"
    }
   ],
   "source": [
    "dicts_list"
   ]
  },
  {
   "cell_type": "code",
   "execution_count": null,
   "metadata": {
    "scrolled": true
   },
   "outputs": [],
   "source": [
    "pd.DataFrame(dicts_list)"
   ]
  },
  {
   "cell_type": "markdown",
   "metadata": {},
   "source": [
    "## Referências\n",
    "\n",
    "* https://pt.linkedin.com/pulse/consumindo-api-e-tratando-dados-com-python-alexandre-tavares\n",
    "* https://docs.python-requests.org/en/latest/user/quickstart/\n",
    "* https://towardsdatascience.com/json-and-apis-with-python-fba329ef6ef0"
   ]
  }
 ],
 "metadata": {
  "kernelspec": {
   "display_name": "Python 3 (ipykernel)",
   "language": "python",
   "name": "python3"
  },
  "language_info": {
   "codemirror_mode": {
    "name": "ipython",
    "version": 3
   },
   "file_extension": ".py",
   "mimetype": "text/x-python",
   "name": "python",
   "nbconvert_exporter": "python",
   "pygments_lexer": "ipython3",
   "version": "3.9.9"
  }
 },
 "nbformat": 4,
 "nbformat_minor": 4
}
